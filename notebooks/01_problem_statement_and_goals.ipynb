{
 "cells": [
  {
   "cell_type": "markdown",
   "id": "4707a754",
   "metadata": {},
   "source": [
    "# 🔄 Telecom Customer Churn Prediction\n",
    "\n",
    "Predicting which customers are likely to churn, identifying the key drivers behind churn behavior, and estimating the financial impact of reducing churn in a subscription-based telecom business.\n"
   ]
  },
  {
   "cell_type": "markdown",
   "id": "c936cd60",
   "metadata": {},
   "source": [
    "## **BUSINESS CONTEXT**\n"
   ]
  },
  {
   "cell_type": "markdown",
   "id": "ad43ffc6",
   "metadata": {},
   "source": [
    "- **Client**: Telecom Subscription company\n",
    "- **Industry**: Telecom\n",
    "-**Products**: Mobile plans, Internet, Streaming Bundles etc."
   ]
  },
  {
   "cell_type": "markdown",
   "id": "b3afb7db",
   "metadata": {},
   "source": [
    "### What is customer churn?"
   ]
  },
  {
   "cell_type": "markdown",
   "id": "240a2457",
   "metadata": {},
   "source": [
    "\n",
    "Customer churn refers to when a customer discontinues using a company’s product or service. In a subscription-based business, churn is removed revenue that often costs more to recover than it would to retain."
   ]
  },
  {
   "cell_type": "markdown",
   "id": "03b4474a",
   "metadata": {},
   "source": [
    "### Why is Churn a Problem?"
   ]
  },
  {
   "cell_type": "markdown",
   "id": "c8e2b568",
   "metadata": {},
   "source": [
    "- Typical churn rates in telecom/subscription can be 20–30%.  \n",
    "- Acquiring a new customer often costs 3–5× more than retaining an existing one.  \n",
    "- High churn negatively impacts revenue, growth, and long-term valuation."
   ]
  },
  {
   "cell_type": "markdown",
   "id": "4b0d6c66",
   "metadata": {},
   "source": [
    "### Business Cost of Losing Customers"
   ]
  },
  {
   "cell_type": "markdown",
   "id": "7073b924",
   "metadata": {},
   "source": [
    "\n",
    "- **Assumptions**:\n",
    "  - Total active customers: 10,000\n",
    "  - Average Revenue Per User (ARPU): \\$70/month  \n",
    "  - Current churn rate: 25%  \n",
    "  - Target churn rate after interventions: 20%  "
   ]
  },
  {
   "cell_type": "markdown",
   "id": "f41bebe1",
   "metadata": {},
   "source": [
    " **Revenue Lost at 25% churn**:  \n",
    "  \\> Lost Customers = 10,000 × 0.25 = 2,500  \n",
    "  \\> Revenue Lost = 2,500 × \\$70 = \\$175,000/month "
   ]
  },
  {
   "cell_type": "markdown",
   "id": "03302fa6",
   "metadata": {},
   "source": [
    " **Revenue Lost at 20% churn**:  \n",
    "  \\> Lost Customers = 10,000 × 0.20 = 2,000  \n",
    "  \\> Revenue Lost = 2,000 × \\$70 = \\$140,000/month "
   ]
  },
  {
   "cell_type": "markdown",
   "id": "c9ed95e0",
   "metadata": {},
   "source": [
    "\n",
    "  **Monthly Savings**:  \n",
    "  \\> \\$175,000 − \\$140,000 = \\$35,000/month  \n",
    "\n",
    "  Over a year, reducing churn by 5 percentage points saves \\$420,000. "
   ]
  },
  {
   "cell_type": "markdown",
   "id": "a38a1655",
   "metadata": {},
   "source": [
    "#### ***Below is a simulated example to showcase this better visually***"
   ]
  },
  {
   "cell_type": "code",
   "execution_count": null,
   "id": "3e2007d1",
   "metadata": {},
   "outputs": [],
   "source": [
    "import pandas as pd\n",
    "import matplotlib.pyplot as plt\n",
    "\n",
    "# Business Impact Simulation Parameters\n",
    "base_customers = 10000  # total number of customers\n",
    "arpu = 70  # average revenue per user per month in dollars\n",
    "current_churn_rate = 0.25  # 25%\n",
    "target_churn_rate = 0.20  # 20%\n",
    "\n",
    "# Calculate revenue lost under current and target churn rates\n",
    "lost_customers_current = base_customers * current_churn_rate\n",
    "lost_customers_target = base_customers * target_churn_rate\n",
    "\n",
    "revenue_lost_current = lost_customers_current * arpu\n",
    "revenue_lost_target = lost_customers_target * arpu\n",
    "\n",
    "# Savings by reducing churn from 25% to 20%\n",
    "savings = revenue_lost_current - revenue_lost_target\n",
    "\n",
    "# Prepare DataFrame for display\n",
    "simulation_df = pd.DataFrame({\n",
    "    'Scenario': ['Current (25% churn)', 'Target (20% churn)'],\n",
    "    'Lost Customers': [lost_customers_current, lost_customers_target],\n",
    "    'Revenue Lost ($)': [revenue_lost_current, revenue_lost_target]\n",
    "})\n",
    "\n",
    "# ✅ Use this instead of ace_tools\n",
    "print(\" BUSINESS IMPACT SIMULATION\")\n",
    "print(simulation_df)\n",
    "\n",
    "# Plot comparison bar chart\n",
    "plt.figure(figsize=(6, 4))\n",
    "plt.bar(['Current Churn', 'Target Churn'], [revenue_lost_current, revenue_lost_target], color=['red', 'green'])\n",
    "plt.title('Monthly Revenue Lost: Current vs Target Churn')\n",
    "plt.ylabel('Revenue Lost ($)')\n",
    "plt.tight_layout()\n",
    "plt.show()\n"
   ]
  },
  {
   "cell_type": "markdown",
   "id": "4937463e",
   "metadata": {},
   "source": [
    "> 📉 **Reducing churn from 25% to 20% can save \\$420,000 per year.**  \n",
    "> This simulation shows why churn prediction isn’t just a data science exercise — it’s core to revenue strategy.\n"
   ]
  },
  {
   "cell_type": "markdown",
   "id": "f501b80b",
   "metadata": {},
   "source": [
    "## Project Objective"
   ]
  },
  {
   "cell_type": "markdown",
   "id": "a0de39c6",
   "metadata": {},
   "source": [
    "\n",
    "1. Build predictive models to identify customers at high risk of churning.  \n",
    "2. Understand key drivers of churn (e.g., contract type, usage patterns, billing).  \n",
    "3. Provide actionable business recommendations to reduce churn (e.g., targeted incentives, plan adjustments etc)"
   ]
  },
  {
   "cell_type": "markdown",
   "id": "4eececfe",
   "metadata": {},
   "source": [
    "## Scope & Deliverables"
   ]
  },
  {
   "cell_type": "markdown",
   "id": "5ba84ab4",
   "metadata": {},
   "source": [
    "\n",
    "- Data loading, cleaning, and exploratory analysis.  \n",
    "- Feature engineering (e.g., “days since last service change,” tenure buckets).  \n",
    "- Baseline and advanced modeling (Logistic Regression, Random Forest, XGBoost).  \n",
    "- Cost-sensitive analysis and metric prioritization (precision vs. recall).  \n",
    "- Business impact simulations (how much revenue can be saved).  \n",
    "- Final recommendations and next steps.  \n",
    "- Deployment considerations (future roadmap— documented in README)."
   ]
  },
  {
   "cell_type": "markdown",
   "id": "7342b240",
   "metadata": {},
   "source": [
    "## Key Business Questions"
   ]
  },
  {
   "cell_type": "markdown",
   "id": "0be63e3f",
   "metadata": {},
   "source": [
    "\n",
    "1. Which customers are most likely to churn in the next billing cycle?  \n",
    "2. What features (e.g., contract type, tenure, monthly charges) are the strongest predictors of churn?  \n",
    "3. How can the company structure retention campaigns to maximize ROI—i.e., which customers should receive targeted offers?  \n",
    "4. If we reduce churn by X%, what is the estimated financial impact?  \n",
    "5. How should the company prioritize false positive vs. false negative rates given cost constraints?  \n"
   ]
  },
  {
   "cell_type": "code",
   "execution_count": null,
   "id": "a4f67473",
   "metadata": {},
   "outputs": [],
   "source": [
    "# 1.5 Notebook Setup: Import Common Libraries\n",
    "\n",
    "import pandas as pd\n",
    "import numpy as np\n",
    "\n",
    "# Visualization libraries\n",
    "import matplotlib.pyplot as plt\n",
    "%matplotlib inline\n",
    "\n",
    "# Set display options (if desired)\n",
    "pd.set_option('display.max_columns', 50)\n",
    "pd.set_option('display.max_rows', 20)\n"
   ]
  },
  {
   "cell_type": "markdown",
   "id": "6558683b",
   "metadata": {},
   "source": [
    "## Next Steps\n",
    "\n",
    "1. **Data Understanding & Cleaning** (Notebook 02)  \n",
    "2. **Hypothesis-Driven EDA** (Notebook 03)  \n",
    "3. **Feature Engineering & Preprocessing** (Notebook 04)  \n",
    "4. **Baseline Modeling** (Notebook 05)  \n",
    "5. **Cost-Sensitive Analysis** (Notebook 06)  \n",
    "6. **Model Tuning & Learning Curves** (Notebook 07)  \n",
    "7. **Final Model Selection** (Notebook 08)  \n",
    "8. **Business Recommendations** (Notebook 09)  \n",
    "9. **Deployment Roadmap** (Notebook 10 / README)\n",
    "\n"
   ]
  }
 ],
 "metadata": {
  "kernelspec": {
   "display_name": "base",
   "language": "python",
   "name": "python3"
  },
  "language_info": {
   "codemirror_mode": {
    "name": "ipython",
    "version": 3
   },
   "file_extension": ".py",
   "mimetype": "text/x-python",
   "name": "python",
   "nbconvert_exporter": "python",
   "pygments_lexer": "ipython3",
   "version": "3.12.4"
  }
 },
 "nbformat": 4,
 "nbformat_minor": 5
}
