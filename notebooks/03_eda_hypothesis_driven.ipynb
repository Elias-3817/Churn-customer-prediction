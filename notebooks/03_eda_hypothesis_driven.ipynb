{
 "cells": [
  {
   "cell_type": "markdown",
   "id": "24fa777d",
   "metadata": {},
   "source": [
    "# 📊 Hypothesis-Driven Exploratory Data Analysis"
   ]
  },
  {
   "cell_type": "markdown",
   "id": "39921678",
   "metadata": {},
   "source": [
    "\n",
    "In this notebook, we will load `customer_churn_cleaned.csv` (from Notebook 02) and explore key hypotheses relating to churn behavior. Specifically, we aim to answer:\n",
    "1. Do month‑to‑month contract customers churn more than longer‑term customers?\n",
    "2. Do higher monthly charges correlate with higher churn?\n",
    "3. Do customers with certain InternetService types (e.g., Fiber optic) show higher churn?\n",
    "4. Are there other surprising patterns (e.g., tenure buckets, streaming service usage) that reveal churn drivers?\n",
    "\n",
    "For each hypothesis, we will:\n",
    "- Visualize distributions.\n",
    "- Compute group‑by churn rates.\n",
    "- Perform simple statistical tests where warranted (chi‑square or t‑test).\n",
    "- Summarize insights to guide feature engineering and business recommendations."
   ]
  },
  {
   "cell_type": "markdown",
   "id": "23967cf7",
   "metadata": {},
   "source": [
    "### Load The Cleaned Data"
   ]
  },
  {
   "cell_type": "code",
   "execution_count": null,
   "id": "8ed479a8",
   "metadata": {},
   "outputs": [],
   "source": [
    "import pandas as pd\n",
    "df = pd.read_csv(\"..\\data\\customer_churn_cleaned.csv\")\n",
    "\n",
    "print(\"dataset shape:\", df.shape)\n",
    "df.head()"
   ]
  },
  {
   "cell_type": "markdown",
   "id": "7cc5118c",
   "metadata": {},
   "source": [
    "- **Shape:** 7,032 rows × 21 columns  \n",
    "- A quick preview confirms that all expected columns are present and values look sensible.\n"
   ]
  },
  {
   "cell_type": "markdown",
   "id": "cfb135b5",
   "metadata": {},
   "source": [
    "### Verify dtypes and missing values"
   ]
  },
  {
   "cell_type": "code",
   "execution_count": null,
   "id": "53e43c9f",
   "metadata": {},
   "outputs": [],
   "source": [
    "\n",
    "df.info()\n",
    "print(\"\\nMissing values per column:\\n\", df.isna().sum())\n"
   ]
  },
  {
   "cell_type": "markdown",
   "id": "2204a14d",
   "metadata": {},
   "source": [
    "- No missing values in any column.  \n",
    "- All columns have appropriate dtypes (e.g., `TotalCharges` is now float64).  \n",
    "The dataset is clean and ready for hypothesis‑driven exploration.\n"
   ]
  },
  {
   "cell_type": "markdown",
   "id": "bbc6d865",
   "metadata": {},
   "source": [
    "- Calculating churn rate and distribution"
   ]
  },
  {
   "cell_type": "code",
   "execution_count": null,
   "id": "9d59ede6",
   "metadata": {},
   "outputs": [],
   "source": [
    "# Baseline churn-rate calculation\n",
    "\n",
    "churn_counts = df['Churn'].value_counts()\n",
    "churn_rates = (df.groupby('Churn').size() / len(df) * 100).round(2)\n",
    "print(\"Overall churn distribution:\\n\", churn_counts, \"\\n\")\n",
    "print(\"Overall churn rates (%):\\n\", churn_rates)\n"
   ]
  },
  {
   "cell_type": "markdown",
   "id": "a65c92bf",
   "metadata": {},
   "source": [
    "## Hypothesis 1: Customers with longer tenure are less likely to churn\n"
   ]
  },
  {
   "cell_type": "code",
   "execution_count": null,
   "id": "1b3c0622",
   "metadata": {},
   "outputs": [],
   "source": [
    "import seaborn as sns\n",
    "import matplotlib.pyplot as plt\n",
    "\n",
    "#We use a hitstplot to view the distribution and view the churn rates. \n",
    "sns.histplot(data= df, x='tenure', hue='Churn', kde= True, bins= 30)\n",
    "plt.title('Tenure Distribution by Churn Status')"
   ]
  },
  {
   "cell_type": "code",
   "execution_count": null,
   "id": "4feb4c8b",
   "metadata": {},
   "outputs": [],
   "source": [
    "# Display Boxplot Inline for Tenure by Churn Status\n",
    "\n",
    "import matplotlib.pyplot as plt\n",
    "import seaborn as sns\n",
    "\n",
    "# Create the boxplot and render inline\n",
    "plt.figure(figsize=(6, 4))\n",
    "sns.boxplot(x='Churn', y='tenure', data=df,hue='Churn', palette='muted')\n",
    "plt.title('Boxplot of Tenure by Churn Status')\n",
    "plt.xlabel('Churn')\n",
    "plt.ylabel('Tenure (months)')\n",
    "plt.show()\n",
    "\n"
   ]
  },
  {
   "cell_type": "code",
   "execution_count": null,
   "id": "b24df74f",
   "metadata": {},
   "outputs": [],
   "source": [
    "## Statistical test for tenure difference\n",
    "\n",
    "from scipy.stats import ttest_ind\n",
    "\n",
    "tenure_churn = df.loc[df['Churn']==\"Yes\", 'tenure']\n",
    "tenure_nochurn = df.loc[df['Churn']==\"No\", 'tenure']\n",
    "\n",
    "t_stat, p_val = ttest_ind(tenure_churn, tenure_nochurn, equal_var=False)\n",
    "print(f\"T-test: t = {t_stat:.3f}, p = {p_val:.3e}\")\n",
    "\n",
    "# Interpretation\n",
    "if p_val < 0.05:\n",
    "    print(\"→ Significant difference in tenure between churn groups (p < 0.05).\")\n",
    "else:\n",
    "    print(\"→ No significant difference detected.\")\n"
   ]
  },
  {
   "cell_type": "markdown",
   "id": "5381fb03",
   "metadata": {},
   "source": [
    "### Tenure vs. Churn: Distribution Insights\n",
    "\n",
    "- **Histogram + KDE**: Churned customers (orange) are heavily concentrated in the early months, particularly between 0–10 months. Non-churned customers (blue) show a much broader spread, peaking near the maximum tenure (around 70 months).\n",
    "- **Boxplot**: The median tenure for churners is very low (around 3–4 months), with a tight interquartile range indicating most churn happens early. For non-churners, the median tenure is significantly higher, and there are many long-tenured customers (several beyond 60 months).\n",
    "- **Welch’s t-test** confirms the difference in mean tenure is statistically significant (t = -34.824, p < 0.001), supporting the visual findings \n",
    "- **Overall**: Together, these visuals confirm that **customer tenure is strongly linked to churn**: customers are most at risk within their first year, and the risk declines sharply after that. Retention efforts should therefore focus on the initial onboarding period to reduce early churn.\n"
   ]
  },
  {
   "cell_type": "markdown",
   "id": "b5804b4d",
   "metadata": {},
   "source": [
    "## Hypothesis 2: MonthlyCharges vs. Churn"
   ]
  },
  {
   "cell_type": "markdown",
   "id": "a640ce71",
   "metadata": {},
   "source": [
    "-We explore if MonthlyCharges differs significantly between customers who churn and those who stay.\n",
    "-We are investigating here if higher monthly bills leads to customer dissatisfaction.\n",
    "To test this hypothesis we'll:\n",
    "    -Calculate the average MonthlyCharges for each churn group.\n",
    "    -Visualize the distribution using a box plot."
   ]
  },
  {
   "cell_type": "code",
   "execution_count": null,
   "id": "6a673d6f",
   "metadata": {},
   "outputs": [],
   "source": [
    "## Calculate average MonthlyCharges by churn\n",
    "mean_charges = df.groupby('Churn')['MonthlyCharges'].mean()\n",
    "print(\"Average MonthlyCharges by churn status:\\n\", mean_charges)\n",
    "# Create boxplot\n",
    "sns.boxplot(x='Churn', y='MonthlyCharges', data=df, hue='Churn',palette='muted')\n",
    "plt.title('Monthly Charges by Churn')\n",
    "plt.show()\n",
    "\n"
   ]
  },
  {
   "cell_type": "code",
   "execution_count": null,
   "id": "50f473ad",
   "metadata": {},
   "outputs": [],
   "source": [
    "\n",
    "from scipy.stats import ttest_ind\n",
    "mc_churn = df.loc[df['Churn']==\"Yes\", 'MonthlyCharges']\n",
    "mc_nochurn = df.loc[df['Churn']==\"No\", 'MonthlyCharges']\n",
    "t_mc, p_mc = ttest_ind(mc_churn, mc_nochurn, equal_var=False)\n",
    "print(f\"MonthlyCharges t-test: t = {t_mc:.3f}, p = {p_mc:.3e}\")\n"
   ]
  },
  {
   "cell_type": "markdown",
   "id": "82464fff",
   "metadata": {},
   "source": [
    "- Customers who **churned** tend to have **higher MonthlyCharges** on average than those who did not churn.\n",
    "- The **median MonthlyCharges** for churned customers is around **$80**, compared to around **$65** for non-churned customers.\n",
    "- The **distribution** for churned customers is more concentrated, with most values falling between **$58 and $95**, while non-churned customers have a **wider spread**, ranging roughly from **$24 to $88**.\n",
    "- This suggests that customers paying more per month are more likely to leave, possibly due to perceived high costs or dissatisfaction with value.\n",
    "- **Welch’s t-test** confirms this difference is statistically significant (t = 18.408, p < 0.001), reinforcing the conclusion that higher monthly charges are strongly associated with churn."
   ]
  },
  {
   "cell_type": "markdown",
   "id": "1f3b5f8d",
   "metadata": {},
   "source": [
    "- We'll now explore the relationship between `TotalCharges` and churn.  \n",
    "- This helps us understand whether customers who have paid more in total are more or less likely to churn.  \n",
    "- `TotalCharges` can reflect how long a customer has been with the company and how much value they've provided.\n"
   ]
  },
  {
   "cell_type": "code",
   "execution_count": null,
   "id": "80c83151",
   "metadata": {},
   "outputs": [],
   "source": [
    "plt.figure(figsize=(8, 6))\n",
    "sns.boxplot(data=df, x='Churn', y='TotalCharges',hue='Churn', palette='muted')\n",
    "plt.title('Total Charges by Churn')\n",
    "plt.show()\n"
   ]
  },
  {
   "cell_type": "code",
   "execution_count": null,
   "id": "ce00bb99",
   "metadata": {},
   "outputs": [],
   "source": [
    "#T-test for TotalCharges\n",
    "\n",
    "tc_churn = df.loc[df['Churn']==\"Yes\", 'TotalCharges']\n",
    "tc_nochurn = df.loc[df['Churn']==\"No\", 'TotalCharges']\n",
    "t_tc, p_tc = ttest_ind(tc_churn, tc_nochurn, equal_var=False)\n",
    "print(f\"TotalCharges t-test: t = {t_tc:.3f}, p = {p_tc:.3e}\")\n"
   ]
  },
  {
   "cell_type": "markdown",
   "id": "60486cb4",
   "metadata": {},
   "source": [
    "- Non-churned customers have a much higher median `TotalCharges` (around \\$1,800) compared to churned customers (around \\$900), indicating that long-standing, high-value customers are less likely to leave.\n",
    "- The interquartile range for non-churned customers spans roughly \\$700 to \\$4,200, whereas for churned customers it’s roughly \\$400 to \\$2,300, showing that churners have both lower overall spending and less variability.\n",
    "- A notable number of outliers exist above \\$5,800—these are likely very long-tenured customers with exceptionally high cumulative spending who still churned.\n",
    "- **Welch’s t-test** confirms the difference in TotalCharges is statistically significant (t = -18.801, p < 0.001), validating that churned customers spend substantially less over their lifetime than those who stay.\n",
    "**Insight:**  \n",
    "Lower cumulative spending (and, by extension, shorter tenure) correlates with higher churn. Customers who have already contributed significant revenue are far less likely to churn, reinforcing the importance of early retention efforts.\n"
   ]
  },
  {
   "cell_type": "markdown",
   "id": "b553b0ed",
   "metadata": {},
   "source": [
    "# Churn by Categorical Features"
   ]
  },
  {
   "cell_type": "markdown",
   "id": "343b39df",
   "metadata": {},
   "source": [
    "To better understand the behavior of churned customers, we’ll explore how churn is distributed across key categorical variables. This can help identify patterns in services, contract types, and payment preferences that are associated with higher churn rates."
   ]
  },
  {
   "cell_type": "markdown",
   "id": "57e92e98",
   "metadata": {},
   "source": [
    "## Hypothesis 3: Churn by Contract Type"
   ]
  },
  {
   "cell_type": "code",
   "execution_count": null,
   "id": "a067aa8b",
   "metadata": {},
   "outputs": [],
   "source": [
    "plt.figure(figsize=(8,5))\n",
    "sns.countplot(data=df, x='Contract', hue='Churn', palette='Set2')\n",
    "plt.title('Churn by Contract Type')\n",
    "plt.xlabel('Contract Type')\n",
    "plt.ylabel('Number of Customers')\n",
    "plt.legend(title='Churn')\n",
    "plt.xticks(rotation=15)\n",
    "plt.tight_layout()\n",
    "plt.show()\n"
   ]
  },
  {
   "cell_type": "code",
   "execution_count": null,
   "id": "99d22a91",
   "metadata": {},
   "outputs": [],
   "source": [
    "#Chi-square test for Contract vs. Churn\n",
    "from scipy import stats\n",
    "\n",
    "contingency = pd.crosstab(df['Contract'], df['Churn'])\n",
    "chi2, p, dof, exp = stats.chi2_contingency(contingency)\n",
    "\n",
    "print(f\"Chi-square: χ² = {chi2:.2f}, p = {p:.3e}, dof = {dof}\")\n"
   ]
  },
  {
   "cell_type": "markdown",
   "id": "eb0d7a61",
   "metadata": {},
   "source": [
    "-Churn is highest among customers with Month-to-month contracts.\n",
    "-Customers with One year and especially Two year contracts churn significantly less.\n",
    "-This suggests that longer-term contracts improve customer retention, possibly by increasing commitment or reducing opportunities to leave frequently.\n",
    "-The Chi-square test confirms a statistically significant association between contract type and churn (χ² = 1179.55, p < 0.001, dof = 2), meaning that churn rate is not independent of the contract type.\n",
    "-Also reinforces the idea that flexible, short-term plans are a major churn risk area."
   ]
  },
  {
   "cell_type": "markdown",
   "id": "99a80ac2",
   "metadata": {},
   "source": [
    "# Hypothesis 4: **Churn by PaymentMethod**"
   ]
  },
  {
   "cell_type": "markdown",
   "id": "2a5ef99a",
   "metadata": {},
   "source": [
    "- Payment method might be a proxy for customer behavior and financial commitment. People using automatic payments (like credit cards or bank transfers) might churn less than those using manual or insecure methods (like mailed checks or electronic checks)."
   ]
  },
  {
   "cell_type": "code",
   "execution_count": null,
   "id": "00af4e35",
   "metadata": {},
   "outputs": [],
   "source": [
    "plt.figure(figsize=(10, 6))\n",
    "sns.countplot(data=df, x='PaymentMethod', hue='Churn', palette='Set2')\n",
    "plt.title('Churn Count by Payment Method')\n",
    "plt.xticks(rotation=45)\n",
    "plt.ylabel('Count')\n",
    "plt.xlabel('Payment Method')\n",
    "plt.tight_layout()\n",
    "plt.savefig(\"countplot.png\")\n",
    "plt.show()\n"
   ]
  },
  {
   "cell_type": "code",
   "execution_count": 1,
   "id": "27117654",
   "metadata": {},
   "outputs": [
    {
     "ename": "NameError",
     "evalue": "name 'pd' is not defined",
     "output_type": "error",
     "traceback": [
      "\u001b[1;31m---------------------------------------------------------------------------\u001b[0m",
      "\u001b[1;31mNameError\u001b[0m                                 Traceback (most recent call last)",
      "Cell \u001b[1;32mIn[1], line 1\u001b[0m\n\u001b[1;32m----> 1\u001b[0m cont_pm \u001b[38;5;241m=\u001b[39m pd\u001b[38;5;241m.\u001b[39mcrosstab(df[\u001b[38;5;124m'\u001b[39m\u001b[38;5;124mPaymentMethod\u001b[39m\u001b[38;5;124m'\u001b[39m], df[\u001b[38;5;124m'\u001b[39m\u001b[38;5;124mChurn\u001b[39m\u001b[38;5;124m'\u001b[39m])\n\u001b[0;32m      2\u001b[0m chi2_pm, p_pm, _, _ \u001b[38;5;241m=\u001b[39m stats\u001b[38;5;241m.\u001b[39mchi2_contingency(cont_pm)\n\u001b[0;32m      4\u001b[0m \u001b[38;5;28mprint\u001b[39m(\u001b[38;5;124mf\u001b[39m\u001b[38;5;124m\"\u001b[39m\u001b[38;5;124mChi-square: χ² = \u001b[39m\u001b[38;5;132;01m{\u001b[39;00mchi2_pm\u001b[38;5;132;01m:\u001b[39;00m\u001b[38;5;124m.2f\u001b[39m\u001b[38;5;132;01m}\u001b[39;00m\u001b[38;5;124m, p = \u001b[39m\u001b[38;5;132;01m{\u001b[39;00mp_pm\u001b[38;5;132;01m:\u001b[39;00m\u001b[38;5;124m.3e\u001b[39m\u001b[38;5;132;01m}\u001b[39;00m\u001b[38;5;124m\"\u001b[39m)\n",
      "\u001b[1;31mNameError\u001b[0m: name 'pd' is not defined"
     ]
    }
   ],
   "source": [
    "\n",
    "\n",
    "cont_pm = pd.crosstab(df['PaymentMethod'], df['Churn'])\n",
    "chi2_pm, p_pm, _, _ = stats.chi2_contingency(cont_pm)\n",
    "\n",
    "print(f\"Chi-square: χ² = {chi2_pm:.2f}, p = {p_pm:.3e}\")\n"
   ]
  },
  {
   "cell_type": "markdown",
   "id": "f765095b",
   "metadata": {},
   "source": [
    "-The churn rate is highest for customers paying via Electronic Check, with nearly equal proportions of churned vs. retained users.\n",
    "-Customers using automatic payments (Bank Transfer or Credit Card) show significantly lower churn rates, the majority of them stayed.\n",
    "-The Chi-square test confirms this association is statistically significant (χ² = 645.43, p < 1e-138), meaning churn behavior varies meaningfully by payment method.\n",
    "-This suggests secure and automated payment methods might be correlated with customer loyalty, or at least reduced friction in billing.\n",
    "-Low-friction payment methods may correlate with higher customer loyalty, either due to convenience, trust, or reduced billing headaches.\n"
   ]
  },
  {
   "cell_type": "markdown",
   "id": "1e2b8ecf",
   "metadata": {},
   "source": [
    "### Hypothesis 5: **Tenure vs. InternetService by Churn**"
   ]
  },
  {
   "cell_type": "markdown",
   "id": "995f0fb8",
   "metadata": {},
   "source": [
    "\n",
    "Next, we explore how customer tenure varies across different `InternetService` types for churned and non-churned customers.  \n",
    "- Certain services (e.g., Fiber optic) may see faster turnover, while customers without internet or on DSL may stay longer.  \n",
    "- Our **Goal** is to identify if any InternetService group has distinctly shorter tenure among churners, which could signal service-related retention issues.\n"
   ]
  },
  {
   "cell_type": "code",
   "execution_count": null,
   "id": "05caac10",
   "metadata": {},
   "outputs": [],
   "source": [
    "import seaborn as sns\n",
    "import matplotlib.pyplot as plt\n",
    "\n",
    "# Create a facet grid of boxplots: tenure by churn, separated by InternetService\n",
    "g = sns.catplot(\n",
    "    data=df,\n",
    "    x=\"Churn\",\n",
    "    y=\"tenure\",\n",
    "    col=\"InternetService\",\n",
    "    kind=\"box\",\n",
    "    palette=\"Set3\",\n",
    "    sharey=True,\n",
    "    height=4,\n",
    "    aspect=0.8\n",
    ")\n",
    "g.fig.subplots_adjust(top=0.8)\n",
    "g.fig.suptitle(\"Tenure Distribution by Churn Status & Internet Service\")\n",
    "g.set_axis_labels(\"Churn\", \"Tenure (months)\")\n",
    "plt.savefig(\"cat_plot.png\")\n",
    "plt.show()\n"
   ]
  },
  {
   "cell_type": "markdown",
   "id": "943ddcd0",
   "metadata": {},
   "source": [
    "\n",
    "- **Across the board**, if you churn, your tenure is rock-bottom—almost nobody leaves after 6–12 months.\n",
    "- **DSL users** who stay have medians around 35–40 months (many stick around for years), but churners hit the exit in under 5 months. A handful bail late (50+ months), but those are clear outliers.\n",
    "- **Fiber-optic customers** who stay often hover around 45–50 months—so they generally stick around longer. Even so, most churners here still leave within the first 6–8 months. A few do linger before leaving, probably because fiber is pricier or they’re on contracts, but churn almost always happens early.\n",
    "- **No-Internet customers** have a median tenure near 25–30 months if they don’t churn (so they’re less “sticky” than internet users overall), but churners in this group drop out almost immediately (sub-3 months).\n",
    "\n",
    "**Key takeaway:**  \n",
    "No matter if it’s DSL, fiber, or no internet, **short tenure = high churn risk**. Retention work needs to zero in on that first year—especially months 0–6—because that’s when the vast majority of churn happens.\n"
   ]
  },
  {
   "cell_type": "markdown",
   "id": "938295e6",
   "metadata": {},
   "source": [
    "## Hypothesis 6:**Churn by StreamingTV Subscription**"
   ]
  },
  {
   "cell_type": "markdown",
   "id": "1ad4b66f",
   "metadata": {},
   "source": [
    "\n",
    "Let’s look at whether having a Streaming TV subscription is linked to churn. We want to see if customers who **don’t use Streaming TV**, or who **do use it**, are more or less likely to churn.\n",
    "\n",
    "We'll use a countplot here since both `StreamingTV` and `Churn` are categorical variables. The goal is to spot any clear differences in churn rates based on Streaming TV usage.\n"
   ]
  },
  {
   "cell_type": "code",
   "execution_count": null,
   "id": "48324dfb",
   "metadata": {},
   "outputs": [],
   "source": [
    "plt.figure(figsize=(6, 4))\n",
    "sns.countplot(data=df, x='StreamingTV', hue='Churn')\n",
    "plt.title('Churn by StreamingTV Subscription')\n",
    "plt.xlabel('StreamingTV')\n",
    "plt.ylabel('Count')\n",
    "plt.legend(title='Churn')\n",
    "plt.tight_layout()\n",
    "plt.show()\n"
   ]
  },
  {
   "cell_type": "markdown",
   "id": "13eb8421",
   "metadata": {},
   "source": [
    "Customers without a StreamingTV subscription make up the majority of both churned and retained groups. However, among customers **with** StreamingTV, the churn count is notably lower than for those without — but not by a massive margin.\n",
    "\n",
    "That said, this doesn't scream a strong relationship. Churn exists in both groups, so StreamingTV alone probably isn’t a major driver. Still, there’s a **slightly higher churn rate** among those who **don’t have** StreamingTV, which might suggest lower service engagement.\n"
   ]
  },
  {
   "cell_type": "markdown",
   "id": "9b470a9b",
   "metadata": {},
   "source": [
    "## **EDA Summary & Key Takeaways**"
   ]
  },
  {
   "cell_type": "markdown",
   "id": "f711b482",
   "metadata": {},
   "source": [
    "\n",
    "1. **Tenure ≤ 6 months is highest‐risk** for churn—focus retention efforts there.  \n",
    "2. **Month-to-month contracts** see the most churn; **one-year/two-year** plans dramatically reduce that risk.  \n",
    "3. **Higher Monthly/Total Charges** correlate with churn—introduce pricing/discount incentives for high‐bill customers.  \n",
    "4. **Automatic payment methods** (bank transfer, credit card) show lower churn than manual checks; encourage autopay.  \n",
    "5. **Internet service type** and **Streaming services** are secondary factors—tenure still dominates.  \n",
    "\n",
    "These insights will inform feature engineering and model design in the next notebook.\n"
   ]
  }
 ],
 "metadata": {
  "kernelspec": {
   "display_name": "base",
   "language": "python",
   "name": "python3"
  },
  "language_info": {
   "codemirror_mode": {
    "name": "ipython",
    "version": 3
   },
   "file_extension": ".py",
   "mimetype": "text/x-python",
   "name": "python",
   "nbconvert_exporter": "python",
   "pygments_lexer": "ipython3",
   "version": "3.12.4"
  }
 },
 "nbformat": 4,
 "nbformat_minor": 5
}
